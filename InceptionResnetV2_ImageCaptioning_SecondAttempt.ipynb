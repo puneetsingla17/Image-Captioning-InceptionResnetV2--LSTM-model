{
  "nbformat": 4,
  "nbformat_minor": 0,
  "metadata": {
    "colab": {
      "name": "InceptionResnetV2-ImageCaptioning-SecondAttempt.ipynb",
      "version": "0.3.2",
      "provenance": [],
      "collapsed_sections": []
    },
    "kernelspec": {
      "name": "python3",
      "display_name": "Python 3"
    },
    "accelerator": "GPU"
  },
  "cells": [
    {
      "cell_type": "code",
      "metadata": {
        "id": "WBBlWrEOufUr",
        "colab_type": "code",
        "colab": {
          "base_uri": "https://localhost:8080/",
          "height": 34
        },
        "outputId": "3e72dd89-beab-4083-822f-0d2adab2662d"
      },
      "source": [
        "import numpy as np # linear algebra\n",
        "import pandas as pd # data processing, CSV file I/O (e.g. pd.read_csv)\n",
        "from keras.applications.inception_resnet_v2 import InceptionResNetV2\n",
        "# Input data files are available in the \"../input/\" directory.\n",
        "# For example, running this (by clicking run or pressing Shift+Enter) will list the files in the input directory\n",
        "from keras.models import Model,Sequential\n",
        "from keras.preprocessing.image import img_to_array,load_img\n",
        "from keras.layers import Dense,GlobalAveragePooling2D,Input,Embedding,InputLayer,Activation,Flatten,Conv2D,MaxPooling2D\n",
        "import os\n",
        "#print(os.listdir(\"../input\"))\n",
        "import glob\n",
        "import cv2\n",
        "import matplotlib.pyplot as plt\n",
        "from tqdm import tqdm,tqdm_notebook\n",
        "import tensorflow as tf\n",
        "from tqdm import tqdm\n",
        "from keras.preprocessing.sequence import pad_sequences\n",
        "from keras.preprocessing.text import Tokenizer\n",
        "\n",
        "from sklearn.model_selection import train_test_split"
      ],
      "execution_count": 1,
      "outputs": [
        {
          "output_type": "stream",
          "text": [
            "Using TensorFlow backend.\n"
          ],
          "name": "stderr"
        }
      ]
    },
    {
      "cell_type": "code",
      "metadata": {
        "id": "FCAcOLFprjc-",
        "colab_type": "code",
        "outputId": "92f22412-7300-4fa5-980e-9f1fa3913f72",
        "colab": {
          "base_uri": "https://localhost:8080/",
          "height": 121
        }
      },
      "source": [
        "from google.colab import drive\n",
        "drive.mount('/content/drive')"
      ],
      "execution_count": 2,
      "outputs": [
        {
          "output_type": "stream",
          "text": [
            "Go to this URL in a browser: https://accounts.google.com/o/oauth2/auth?client_id=947318989803-6bn6qk8qdgf4n4g3pfee6491hc0brc4i.apps.googleusercontent.com&redirect_uri=urn%3Aietf%3Awg%3Aoauth%3A2.0%3Aoob&scope=email%20https%3A%2F%2Fwww.googleapis.com%2Fauth%2Fdocs.test%20https%3A%2F%2Fwww.googleapis.com%2Fauth%2Fdrive%20https%3A%2F%2Fwww.googleapis.com%2Fauth%2Fdrive.photos.readonly%20https%3A%2F%2Fwww.googleapis.com%2Fauth%2Fpeopleapi.readonly&response_type=code\n",
            "\n",
            "Enter your authorization code:\n",
            "··········\n",
            "Mounted at /content/drive\n"
          ],
          "name": "stdout"
        }
      ]
    },
    {
      "cell_type": "code",
      "metadata": {
        "id": "U2EHRPDSuxtC",
        "colab_type": "code",
        "colab": {}
      },
      "source": [
        "from zipfile import ZipFile"
      ],
      "execution_count": 0,
      "outputs": []
    },
    {
      "cell_type": "code",
      "metadata": {
        "id": "rhb-TpDCu6Ip",
        "colab_type": "code",
        "colab": {}
      },
      "source": [
        "filedir='/content/drive/My Drive/flickr-image-dataset.zip'"
      ],
      "execution_count": 0,
      "outputs": []
    },
    {
      "cell_type": "code",
      "metadata": {
        "id": "8RflKWAyu-eS",
        "colab_type": "code",
        "colab": {}
      },
      "source": [
        "f=ZipFile(filedir)"
      ],
      "execution_count": 0,
      "outputs": []
    },
    {
      "cell_type": "code",
      "metadata": {
        "id": "b_ipzXaZvFIa",
        "colab_type": "code",
        "colab": {}
      },
      "source": [
        "f.extractall(\"imges\")"
      ],
      "execution_count": 0,
      "outputs": []
    },
    {
      "cell_type": "code",
      "metadata": {
        "id": "YzPgH7pTsxmI",
        "colab_type": "code",
        "colab": {}
      },
      "source": [
        "df=pd.read_csv(\"/content/imges/flickr30k_images/results.csv\",delimiter='|')"
      ],
      "execution_count": 0,
      "outputs": []
    },
    {
      "cell_type": "code",
      "metadata": {
        "id": "WKEPZX7Mu2UQ",
        "colab_type": "code",
        "outputId": "13dac6fe-ef3a-49aa-8461-0e0b8ae56473",
        "colab": {
          "base_uri": "https://localhost:8080/",
          "height": 195
        }
      },
      "source": [
        "df.head()"
      ],
      "execution_count": 8,
      "outputs": [
        {
          "output_type": "execute_result",
          "data": {
            "text/html": [
              "<div>\n",
              "<style scoped>\n",
              "    .dataframe tbody tr th:only-of-type {\n",
              "        vertical-align: middle;\n",
              "    }\n",
              "\n",
              "    .dataframe tbody tr th {\n",
              "        vertical-align: top;\n",
              "    }\n",
              "\n",
              "    .dataframe thead th {\n",
              "        text-align: right;\n",
              "    }\n",
              "</style>\n",
              "<table border=\"1\" class=\"dataframe\">\n",
              "  <thead>\n",
              "    <tr style=\"text-align: right;\">\n",
              "      <th></th>\n",
              "      <th>image_name</th>\n",
              "      <th>comment_number</th>\n",
              "      <th>comment</th>\n",
              "    </tr>\n",
              "  </thead>\n",
              "  <tbody>\n",
              "    <tr>\n",
              "      <th>0</th>\n",
              "      <td>1000092795.jpg</td>\n",
              "      <td>0</td>\n",
              "      <td>Two young guys with shaggy hair look at their...</td>\n",
              "    </tr>\n",
              "    <tr>\n",
              "      <th>1</th>\n",
              "      <td>1000092795.jpg</td>\n",
              "      <td>1</td>\n",
              "      <td>Two young , White males are outside near many...</td>\n",
              "    </tr>\n",
              "    <tr>\n",
              "      <th>2</th>\n",
              "      <td>1000092795.jpg</td>\n",
              "      <td>2</td>\n",
              "      <td>Two men in green shirts are standing in a yard .</td>\n",
              "    </tr>\n",
              "    <tr>\n",
              "      <th>3</th>\n",
              "      <td>1000092795.jpg</td>\n",
              "      <td>3</td>\n",
              "      <td>A man in a blue shirt standing in a garden .</td>\n",
              "    </tr>\n",
              "    <tr>\n",
              "      <th>4</th>\n",
              "      <td>1000092795.jpg</td>\n",
              "      <td>4</td>\n",
              "      <td>Two friends enjoy time spent together .</td>\n",
              "    </tr>\n",
              "  </tbody>\n",
              "</table>\n",
              "</div>"
            ],
            "text/plain": [
              "       image_name  ...                                            comment\n",
              "0  1000092795.jpg  ...   Two young guys with shaggy hair look at their...\n",
              "1  1000092795.jpg  ...   Two young , White males are outside near many...\n",
              "2  1000092795.jpg  ...   Two men in green shirts are standing in a yard .\n",
              "3  1000092795.jpg  ...       A man in a blue shirt standing in a garden .\n",
              "4  1000092795.jpg  ...            Two friends enjoy time spent together .\n",
              "\n",
              "[5 rows x 3 columns]"
            ]
          },
          "metadata": {
            "tags": []
          },
          "execution_count": 8
        }
      ]
    },
    {
      "cell_type": "code",
      "metadata": {
        "id": "3NM6veFJu3ja",
        "colab_type": "code",
        "colab": {}
      },
      "source": [
        "imgbasedir=\"/content/imges/flickr30k_images/flickr30k_images/\""
      ],
      "execution_count": 0,
      "outputs": []
    },
    {
      "cell_type": "code",
      "metadata": {
        "id": "xwA4mNUMu9Ky",
        "colab_type": "code",
        "colab": {}
      },
      "source": [
        "imgdir=glob.glob(imgbasedir+\"*.jpg\")"
      ],
      "execution_count": 0,
      "outputs": []
    },
    {
      "cell_type": "code",
      "metadata": {
        "id": "dkY7T8BivAPi",
        "colab_type": "code",
        "outputId": "59ece1a1-e988-421c-c448-9d6520bf5167",
        "colab": {
          "base_uri": "https://localhost:8080/",
          "height": 101
        }
      },
      "source": [
        "imgdir[:5]"
      ],
      "execution_count": 11,
      "outputs": [
        {
          "output_type": "execute_result",
          "data": {
            "text/plain": [
              "['/content/imges/flickr30k_images/flickr30k_images/4966860594.jpg',\n",
              " '/content/imges/flickr30k_images/flickr30k_images/7436111546.jpg',\n",
              " '/content/imges/flickr30k_images/flickr30k_images/2634334121.jpg',\n",
              " '/content/imges/flickr30k_images/flickr30k_images/86289724.jpg',\n",
              " '/content/imges/flickr30k_images/flickr30k_images/2358554995.jpg']"
            ]
          },
          "metadata": {
            "tags": []
          },
          "execution_count": 11
        }
      ]
    },
    {
      "cell_type": "code",
      "metadata": {
        "id": "Mtrd6VsPvBYS",
        "colab_type": "code",
        "outputId": "72a10f6c-ecb1-42e6-be5d-c8831903be55",
        "colab": {
          "base_uri": "https://localhost:8080/",
          "height": 302
        }
      },
      "source": [
        "img=cv2.imread(imgbasedir+df.image_name.iloc[0])\n",
        "img=cv2.cvtColor(img,cv2.COLOR_BGR2RGB)\n",
        "plt.imshow(img)\n",
        "print(df[' comment'].iloc[0])\n",
        "print(img.shape)"
      ],
      "execution_count": 12,
      "outputs": [
        {
          "output_type": "stream",
          "text": [
            " Two young guys with shaggy hair look at their hands while hanging out in the yard .\n",
            "(500, 333, 3)\n"
          ],
          "name": "stdout"
        },
        {
          "output_type": "display_data",
          "data": {
            "image/png": "[encoded data removed]",
            "text/plain": [
              "<Figure size 432x288 with 1 Axes>"
            ]
          },
          "metadata": {
            "tags": []
          }
        }
      ]
    },
    {
      "cell_type": "code",
      "metadata": {
        "id": "4ndsoXljvPkS",
        "colab_type": "code",
        "colab": {}
      },
      "source": [
        "imagesize=(299,299,3)"
      ],
      "execution_count": 0,
      "outputs": []
    },
    {
      "cell_type": "code",
      "metadata": {
        "id": "UjYowt5bvSxy",
        "colab_type": "code",
        "colab": {}
      },
      "source": [
        "def fun1(df1):\n",
        "    m=list(df1[\" comment\"].values)\n",
        "    return m"
      ],
      "execution_count": 0,
      "outputs": []
    },
    {
      "cell_type": "code",
      "metadata": {
        "id": "z2WR0DpyvVvK",
        "colab_type": "code",
        "colab": {}
      },
      "source": [
        "df1=df.groupby(by='image_name').apply(fun1)"
      ],
      "execution_count": 0,
      "outputs": []
    },
    {
      "cell_type": "code",
      "metadata": {
        "id": "5F84PLLXvXP6",
        "colab_type": "code",
        "colab": {}
      },
      "source": [
        "index1=df1.index\n",
        "values=df1.values"
      ],
      "execution_count": 0,
      "outputs": []
    },
    {
      "cell_type": "code",
      "metadata": {
        "id": "3UMFox3pvZaS",
        "colab_type": "code",
        "colab": {}
      },
      "source": [
        "dict1=dict([(index1[i],values[i]) for i in range(len(values))])"
      ],
      "execution_count": 0,
      "outputs": []
    },
    {
      "cell_type": "code",
      "metadata": {
        "id": "73PWODizvcKx",
        "colab_type": "code",
        "outputId": "64967695-4c19-49cd-923e-6eedbf383fba",
        "colab": {
          "base_uri": "https://localhost:8080/",
          "height": 356
        }
      },
      "source": [
        "model=InceptionResNetV2(include_top=False,weights='imagenet',input_shape=(299,299,3))"
      ],
      "execution_count": 18,
      "outputs": [
        {
          "output_type": "stream",
          "text": [
            "WARNING: Logging before flag parsing goes to stderr.\n",
            "W0726 06:00:25.312251 139713176815488 deprecation_wrapper.py:119] From /usr/local/lib/python3.6/dist-packages/keras/backend/tensorflow_backend.py:74: The name tf.get_default_graph is deprecated. Please use tf.compat.v1.get_default_graph instead.\n",
            "\n",
            "W0726 06:00:25.373595 139713176815488 deprecation_wrapper.py:119] From /usr/local/lib/python3.6/dist-packages/keras/backend/tensorflow_backend.py:517: The name tf.placeholder is deprecated. Please use tf.compat.v1.placeholder instead.\n",
            "\n",
            "W0726 06:00:25.400830 139713176815488 deprecation_wrapper.py:119] From /usr/local/lib/python3.6/dist-packages/keras/backend/tensorflow_backend.py:4138: The name tf.random_uniform is deprecated. Please use tf.random.uniform instead.\n",
            "\n",
            "W0726 06:00:25.442024 139713176815488 deprecation_wrapper.py:119] From /usr/local/lib/python3.6/dist-packages/keras/backend/tensorflow_backend.py:174: The name tf.get_default_session is deprecated. Please use tf.compat.v1.get_default_session instead.\n",
            "\n",
            "W0726 06:00:25.442887 139713176815488 deprecation_wrapper.py:119] From /usr/local/lib/python3.6/dist-packages/keras/backend/tensorflow_backend.py:181: The name tf.ConfigProto is deprecated. Please use tf.compat.v1.ConfigProto instead.\n",
            "\n",
            "W0726 06:00:28.629649 139713176815488 deprecation_wrapper.py:119] From /usr/local/lib/python3.6/dist-packages/keras/backend/tensorflow_backend.py:1834: The name tf.nn.fused_batch_norm is deprecated. Please use tf.compat.v1.nn.fused_batch_norm instead.\n",
            "\n",
            "W0726 06:00:28.867436 139713176815488 deprecation_wrapper.py:119] From /usr/local/lib/python3.6/dist-packages/keras/backend/tensorflow_backend.py:3976: The name tf.nn.max_pool is deprecated. Please use tf.nn.max_pool2d instead.\n",
            "\n",
            "W0726 06:00:29.655138 139713176815488 deprecation_wrapper.py:119] From /usr/local/lib/python3.6/dist-packages/keras/backend/tensorflow_backend.py:3980: The name tf.nn.avg_pool is deprecated. Please use tf.nn.avg_pool2d instead.\n",
            "\n"
          ],
          "name": "stderr"
        },
        {
          "output_type": "stream",
          "text": [
            "Downloading data from https://github.com/fchollet/deep-learning-models/releases/download/v0.7/inception_resnet_v2_weights_tf_dim_ordering_tf_kernels_notop.h5\n",
            "219062272/219055592 [==============================] - 9s 0us/step\n"
          ],
          "name": "stdout"
        }
      ]
    },
    {
      "cell_type": "code",
      "metadata": {
        "id": "fCdrFJGBvjkB",
        "colab_type": "code",
        "colab": {}
      },
      "source": [
        "for layer in model.layers:\n",
        "  layer.trainable=False\n",
        "  \n",
        "bottommodel=model.output\n",
        "topmodel=GlobalAveragePooling2D()(bottommodel)\n",
        "  "
      ],
      "execution_count": 0,
      "outputs": []
    },
    {
      "cell_type": "code",
      "metadata": {
        "id": "HtefGwdSv28L",
        "colab_type": "code",
        "colab": {}
      },
      "source": [
        "model1=Model(model.input,topmodel)"
      ],
      "execution_count": 0,
      "outputs": []
    },
    {
      "cell_type": "code",
      "metadata": {
        "id": "49VMItquv5t6",
        "colab_type": "code",
        "colab": {}
      },
      "source": [
        ""
      ],
      "execution_count": 0,
      "outputs": []
    },
    {
      "cell_type": "code",
      "metadata": {
        "id": "bdCDcDarv7ii",
        "colab_type": "code",
        "colab": {}
      },
      "source": [
        "pred1=[]                          #due to memory constraints ,getting encodings in batches of 5000\n",
        "for i in range(0,30000,5000):\n",
        "    index2=index1[i:i+5000]\n",
        "    xtrain=[]\n",
        "    for i in range(len(index2)):\n",
        "        img=cv2.imread(imgbasedir+index2[i])\n",
        "        img=cv2.cvtColor(img,cv2.COLOR_BGR2RGB)\n",
        "        img=cv2.resize(img,(299,299)).astype('float16')\n",
        "        xtrain.append(img)\n",
        "    xtrain=np.array(xtrain).astype('float16')/255\n",
        "    pred=model1.predict(xtrain)\n",
        "    pred1.append(pred)"
      ],
      "execution_count": 0,
      "outputs": []
    },
    {
      "cell_type": "code",
      "metadata": {
        "id": "v-EJiODRwEry",
        "colab_type": "code",
        "colab": {}
      },
      "source": [
        "xtrain=[]  # To Free up some Memory\n",
        "pred=[]\n",
        "pred2=np.vstack(pred1)\n"
      ],
      "execution_count": 0,
      "outputs": []
    },
    {
      "cell_type": "code",
      "metadata": {
        "id": "yhxDLzvpyTHS",
        "colab_type": "code",
        "colab": {}
      },
      "source": [
        "pred1=0"
      ],
      "execution_count": 0,
      "outputs": []
    },
    {
      "cell_type": "code",
      "metadata": {
        "id": "1wZdzDONyVwZ",
        "colab_type": "code",
        "colab": {}
      },
      "source": [
        "import random  #Getting the captioning text  for first 30000 images\n",
        "tokendata=[random.sample(dict1[index1[i]],1)[0] for i in range(30000)]"
      ],
      "execution_count": 0,
      "outputs": []
    },
    {
      "cell_type": "code",
      "metadata": {
        "id": "gzYiNa7QyZ0a",
        "colab_type": "code",
        "colab": {}
      },
      "source": [
        "Imgbottleneck=120\n",
        "wordembedsize=32\n",
        "rnnsize=256\n",
        "ns=1536"
      ],
      "execution_count": 0,
      "outputs": []
    },
    {
      "cell_type": "code",
      "metadata": {
        "id": "Aa6AtYtiycoK",
        "colab_type": "code",
        "colab": {}
      },
      "source": [
        "import re"
      ],
      "execution_count": 0,
      "outputs": []
    },
    {
      "cell_type": "code",
      "metadata": {
        "id": "fcFlh1ggyejD",
        "colab_type": "code",
        "colab": {}
      },
      "source": [
        "def fun(text):\n",
        "    \n",
        "    text=text.lower()\n",
        "    text=re.sub(r\"[^\\w\\d]\",\" \",text)\n",
        "    text=re.sub(r\"\\s{2,}\",\" \",text)\n",
        "    text=text.strip()\n",
        "    return text\n"
      ],
      "execution_count": 0,
      "outputs": []
    },
    {
      "cell_type": "code",
      "metadata": {
        "id": "hgdYrelYyg77",
        "colab_type": "code",
        "colab": {}
      },
      "source": [
        "tokendata1=[fun(i) for i in tokendata]"
      ],
      "execution_count": 0,
      "outputs": []
    },
    {
      "cell_type": "code",
      "metadata": {
        "id": "6zvciS_syi16",
        "colab_type": "code",
        "colab": {}
      },
      "source": [
        "tokendata1=np.array(tokendata1)"
      ],
      "execution_count": 0,
      "outputs": []
    },
    {
      "cell_type": "code",
      "metadata": {
        "id": "cnsl9XWi8a_6",
        "colab_type": "code",
        "colab": {}
      },
      "source": [
        "tokenizer=Tokenizer(num_words=3997,oov_token='<unk>')"
      ],
      "execution_count": 0,
      "outputs": []
    },
    {
      "cell_type": "code",
      "metadata": {
        "id": "JFNLR7Rc8hSa",
        "colab_type": "code",
        "colab": {}
      },
      "source": [
        "tokenizer.fit_on_texts(tokendata1)"
      ],
      "execution_count": 0,
      "outputs": []
    },
    {
      "cell_type": "code",
      "metadata": {
        "id": "Uuxq8fGu8is7",
        "colab_type": "code",
        "colab": {}
      },
      "source": [
        "tokendata2=tokenizer.texts_to_sequences(tokendata1)"
      ],
      "execution_count": 0,
      "outputs": []
    },
    {
      "cell_type": "code",
      "metadata": {
        "id": "lDf-nySq8kJa",
        "colab_type": "code",
        "colab": {}
      },
      "source": [
        "wordcount=tokenizer.word_counts"
      ],
      "execution_count": 0,
      "outputs": []
    },
    {
      "cell_type": "code",
      "metadata": {
        "id": "PPN1kJiL8mHq",
        "colab_type": "code",
        "outputId": "192f5313-6a99-4195-f145-4c985ea89c0d",
        "colab": {
          "base_uri": "https://localhost:8080/",
          "height": 34
        }
      },
      "source": [
        "len([i for i,j in wordcount.items() if j>=4])"
      ],
      "execution_count": 34,
      "outputs": [
        {
          "output_type": "execute_result",
          "data": {
            "text/plain": [
              "3915"
            ]
          },
          "metadata": {
            "tags": []
          },
          "execution_count": 34
        }
      ]
    },
    {
      "cell_type": "code",
      "metadata": {
        "id": "9HU0503f8nyi",
        "colab_type": "code",
        "colab": {}
      },
      "source": [
        "word2index=tokenizer.word_index\n",
        "word2index=dict([(i,j) for i,j in word2index.items() if j <=3997])\n",
        "word2index['<pad>']=0\n",
        "word2index['<start>']=len(word2index)\n",
        "word2index['<end>']=len(word2index)"
      ],
      "execution_count": 0,
      "outputs": []
    },
    {
      "cell_type": "code",
      "metadata": {
        "id": "qZPtFR2K8u-C",
        "colab_type": "code",
        "colab": {}
      },
      "source": [
        "index2word=dict([(i,j) for j,i in word2index.items()])"
      ],
      "execution_count": 0,
      "outputs": []
    },
    {
      "cell_type": "code",
      "metadata": {
        "id": "svmx92WA8w4a",
        "colab_type": "code",
        "colab": {}
      },
      "source": [
        "tokendata3=[[word2index['<start>']]+tokendata2[i]+[word2index['<end>']] for i in range(len(tokendata2))]"
      ],
      "execution_count": 0,
      "outputs": []
    },
    {
      "cell_type": "code",
      "metadata": {
        "id": "QYTxgMPq8yv6",
        "colab_type": "code",
        "colab": {}
      },
      "source": [
        "length=[len(x) for x in tokendata3]"
      ],
      "execution_count": 0,
      "outputs": []
    },
    {
      "cell_type": "code",
      "metadata": {
        "id": "wC3ttTQs80ki",
        "colab_type": "code",
        "colab": {}
      },
      "source": [
        "imgembedsize=1536\n",
        "logitsbottleneck=128\n",
        "rnnsize=256\n",
        "Imgbottleneck=128\n",
        "wordembedsize=32\n"
      ],
      "execution_count": 0,
      "outputs": []
    },
    {
      "cell_type": "code",
      "metadata": {
        "id": "FvqgF0zr9YFS",
        "colab_type": "code",
        "colab": {}
      },
      "source": [
        "imgemb=tf.placeholder(shape=[None,1536],dtype=tf.float32)\n",
        "sentences=tf.placeholder(shape=[None,None],dtype=tf.int32)\n",
        "drop1=tf.placeholder(shape=[],dtype=tf.float32)\n",
        "drop_imgemb=tf.nn.dropout(imgemb,keep_prob=drop1)\n",
        "imgembed_bottleneck=tf.layers.dense(drop_imgemb,Imgbottleneck,activation=tf.nn.relu,kernel_initializer=tf.random_normal_initializer)"
      ],
      "execution_count": 0,
      "outputs": []
    },
    {
      "cell_type": "code",
      "metadata": {
        "id": "wug9Rh6-F7kw",
        "colab_type": "code",
        "colab": {}
      },
      "source": [
        "drop2=tf.placeholder(shape=[],dtype=tf.float32)\n",
        "drop3=tf.placeholder(shape=[],dtype=tf.float32)"
      ],
      "execution_count": 0,
      "outputs": []
    },
    {
      "cell_type": "code",
      "metadata": {
        "id": "_l5DmeUD9aJi",
        "colab_type": "code",
        "outputId": "a136fd89-2889-40dd-c1eb-bc9009aa10b2",
        "colab": {
          "base_uri": "https://localhost:8080/",
          "height": 87
        }
      },
      "source": [
        "imgbottle_h=tf.layers.dense(imgembed_bottleneck,ns,activation=tf.nn.relu,kernel_initializer=tf.random_normal_initializer)\n",
        "dropimgbottle_h=tf.nn.dropout(imgbottle_h,keep_prob=drop2)\n",
        "embedvar=tf.Variable(tf.random.normal([len(word2index),wordembedsize],0,1.0,dtype=tf.float32))\n",
        "wordembed=tf.nn.embedding_lookup(embedvar,sentences[:,:-1])\n",
        "dropwordembed=tf.nn.dropout(wordembed,keep_prob=drop3)\n",
        "lstm=tf.nn.rnn_cell.LSTMCell(ns,dtype=tf.float32)"
      ],
      "execution_count": 44,
      "outputs": [
        {
          "output_type": "stream",
          "text": [
            "W0726 07:08:15.211604 139713176815488 deprecation.py:323] From <ipython-input-44-4620ebe0f1b9>:6: LSTMCell.__init__ (from tensorflow.python.ops.rnn_cell_impl) is deprecated and will be removed in a future version.\n",
            "Instructions for updating:\n",
            "This class is equivalent as tf.keras.layers.LSTMCell, and will be replaced by that in Tensorflow 2.0.\n"
          ],
          "name": "stderr"
        }
      ]
    },
    {
      "cell_type": "code",
      "metadata": {
        "id": "g610TlUYG-9h",
        "colab_type": "code",
        "colab": {}
      },
      "source": [
        "c0=h0=dropimgbottle_h"
      ],
      "execution_count": 0,
      "outputs": []
    },
    {
      "cell_type": "code",
      "metadata": {
        "id": "m8utsbCH9e6i",
        "colab_type": "code",
        "colab": {}
      },
      "source": [
        "seqlen=tf.placeholder(shape=[None],dtype=tf.int32)"
      ],
      "execution_count": 0,
      "outputs": []
    },
    {
      "cell_type": "code",
      "metadata": {
        "id": "C0zX7YFp9qVa",
        "colab_type": "code",
        "outputId": "a1b81dc1-4248-4b00-9789-cd9f821b79c3",
        "colab": {
          "base_uri": "https://localhost:8080/",
          "height": 238
        }
      },
      "source": [
        "hiddenstates,_=tf.nn.dynamic_rnn(lstm,dropwordembed,sequence_length=seqlen,initial_state=tf.nn.rnn_cell.LSTMStateTuple(c0,h0),dtype=tf.float32)"
      ],
      "execution_count": 49,
      "outputs": [
        {
          "output_type": "stream",
          "text": [
            "W0726 07:11:08.177134 139713176815488 deprecation.py:323] From <ipython-input-49-a7736e592d59>:1: dynamic_rnn (from tensorflow.python.ops.rnn) is deprecated and will be removed in a future version.\n",
            "Instructions for updating:\n",
            "Please use `keras.layers.RNN(cell)`, which is equivalent to this API\n",
            "W0726 07:11:08.303905 139713176815488 deprecation.py:506] From /usr/local/lib/python3.6/dist-packages/tensorflow/python/ops/init_ops.py:1251: calling VarianceScaling.__init__ (from tensorflow.python.ops.init_ops) with dtype is deprecated and will be removed in a future version.\n",
            "Instructions for updating:\n",
            "Call initializer instance with the dtype argument instead of passing it to the constructor\n",
            "W0726 07:11:08.316709 139713176815488 deprecation.py:506] From /usr/local/lib/python3.6/dist-packages/tensorflow/python/ops/rnn_cell_impl.py:961: calling Zeros.__init__ (from tensorflow.python.ops.init_ops) with dtype is deprecated and will be removed in a future version.\n",
            "Instructions for updating:\n",
            "Call initializer instance with the dtype argument instead of passing it to the constructor\n",
            "W0726 07:11:08.962666 139713176815488 deprecation.py:323] From /usr/local/lib/python3.6/dist-packages/tensorflow/python/ops/rnn.py:244: add_dispatch_support.<locals>.wrapper (from tensorflow.python.ops.array_ops) is deprecated and will be removed in a future version.\n",
            "Instructions for updating:\n",
            "Use tf.where in 2.0, which has the same broadcast rule as np.where\n"
          ],
          "name": "stderr"
        }
      ]
    },
    {
      "cell_type": "code",
      "metadata": {
        "id": "Uu08ac_C9sfq",
        "colab_type": "code",
        "outputId": "ad319772-128b-4e8d-9bab-b52f0ad57827",
        "colab": {
          "base_uri": "https://localhost:8080/",
          "height": 34
        }
      },
      "source": [
        "hiddenstates.get_shape()\n"
      ],
      "execution_count": 50,
      "outputs": [
        {
          "output_type": "execute_result",
          "data": {
            "text/plain": [
              "TensorShape([Dimension(None), Dimension(None), Dimension(1536)])"
            ]
          },
          "metadata": {
            "tags": []
          },
          "execution_count": 50
        }
      ]
    },
    {
      "cell_type": "code",
      "metadata": {
        "id": "4ca_5MGCSN6M",
        "colab_type": "code",
        "colab": {}
      },
      "source": [
        "tokenlogitsbottleneck=tf.layers.dense(hiddenstates,logitsbottleneck,activation=tf.nn.relu,kernel_initializer=tf.random_normal_initializer)"
      ],
      "execution_count": 0,
      "outputs": []
    },
    {
      "cell_type": "code",
      "metadata": {
        "id": "NLyttf8ZS2bh",
        "colab_type": "code",
        "colab": {}
      },
      "source": [
        "tokenlogits=tf.layers.dense(tokenlogitsbottleneck,len(word2index))"
      ],
      "execution_count": 0,
      "outputs": []
    },
    {
      "cell_type": "code",
      "metadata": {
        "id": "4xx1sNsXTnqg",
        "colab_type": "code",
        "outputId": "67341d66-93e2-47cb-d806-5be09a1bb7c7",
        "colab": {
          "base_uri": "https://localhost:8080/",
          "height": 34
        }
      },
      "source": [
        "tokenlogits.get_shape()"
      ],
      "execution_count": 53,
      "outputs": [
        {
          "output_type": "execute_result",
          "data": {
            "text/plain": [
              "TensorShape([Dimension(None), Dimension(None), Dimension(4000)])"
            ]
          },
          "metadata": {
            "tags": []
          },
          "execution_count": 53
        }
      ]
    },
    {
      "cell_type": "code",
      "metadata": {
        "id": "FG0tP9oKWO_p",
        "colab_type": "code",
        "colab": {}
      },
      "source": [
        "len1=len(word2index)"
      ],
      "execution_count": 0,
      "outputs": []
    },
    {
      "cell_type": "code",
      "metadata": {
        "id": "TV3cjrz5VA3K",
        "colab_type": "code",
        "colab": {}
      },
      "source": [
        "finaltokenlogits=tf.reshape(tokenlogits,(-1,len1))"
      ],
      "execution_count": 0,
      "outputs": []
    },
    {
      "cell_type": "code",
      "metadata": {
        "id": "jdoX_BnJWU8o",
        "colab_type": "code",
        "outputId": "0b70fb27-f4bd-4fe2-bfc6-2f9c24c962f6",
        "colab": {
          "base_uri": "https://localhost:8080/",
          "height": 34
        }
      },
      "source": [
        "finaltokenlogits.get_shape()"
      ],
      "execution_count": 57,
      "outputs": [
        {
          "output_type": "execute_result",
          "data": {
            "text/plain": [
              "TensorShape([Dimension(None), Dimension(4000)])"
            ]
          },
          "metadata": {
            "tags": []
          },
          "execution_count": 57
        }
      ]
    },
    {
      "cell_type": "code",
      "metadata": {
        "id": "3FKclluFWZIg",
        "colab_type": "code",
        "colab": {}
      },
      "source": [
        "flatgroundtruth=tf.reshape(sentences[:,1:],[-1,])"
      ],
      "execution_count": 0,
      "outputs": []
    },
    {
      "cell_type": "code",
      "metadata": {
        "id": "VG0wryCyXC-R",
        "colab_type": "code",
        "colab": {}
      },
      "source": [
        "flat_loss_mask = tf.not_equal(word2index['<pad>'],flatgroundtruth)"
      ],
      "execution_count": 0,
      "outputs": []
    },
    {
      "cell_type": "code",
      "metadata": {
        "id": "SdGgpjsuXWCg",
        "colab_type": "code",
        "colab": {}
      },
      "source": [
        "xent=tf.nn.sparse_softmax_cross_entropy_with_logits(logits=finaltokenlogits,labels=flatgroundtruth)"
      ],
      "execution_count": 0,
      "outputs": []
    },
    {
      "cell_type": "code",
      "metadata": {
        "id": "cuy9TdQmXpKA",
        "colab_type": "code",
        "colab": {}
      },
      "source": [
        "loss=tf.reduce_mean(tf.boolean_mask(xent,flat_loss_mask))"
      ],
      "execution_count": 0,
      "outputs": []
    },
    {
      "cell_type": "code",
      "metadata": {
        "id": "phlow0dvX2Zg",
        "colab_type": "code",
        "colab": {}
      },
      "source": [
        "optimizer = tf.train.AdamOptimizer(learning_rate=0.001)\n",
        "train_step = optimizer.minimize(loss)"
      ],
      "execution_count": 0,
      "outputs": []
    },
    {
      "cell_type": "code",
      "metadata": {
        "id": "y1s5A8NRX8OZ",
        "colab_type": "code",
        "colab": {}
      },
      "source": [
        "saver = tf.train.Saver()"
      ],
      "execution_count": 0,
      "outputs": []
    },
    {
      "cell_type": "code",
      "metadata": {
        "id": "YQFqL8i7YCUb",
        "colab_type": "code",
        "colab": {}
      },
      "source": [
        "s=tf.InteractiveSession()"
      ],
      "execution_count": 0,
      "outputs": []
    },
    {
      "cell_type": "code",
      "metadata": {
        "id": "mi57k2lJYIdB",
        "colab_type": "code",
        "colab": {}
      },
      "source": [
        "s.run(tf.global_variables_initializer())"
      ],
      "execution_count": 0,
      "outputs": []
    },
    {
      "cell_type": "code",
      "metadata": {
        "id": "oiijlNX0de_q",
        "colab_type": "code",
        "outputId": "3eebecfc-b178-4d22-e2bf-d89c00044b81",
        "colab": {
          "base_uri": "https://localhost:8080/",
          "height": 34
        }
      },
      "source": [
        "len(length)"
      ],
      "execution_count": 66,
      "outputs": [
        {
          "output_type": "execute_result",
          "data": {
            "text/plain": [
              "30000"
            ]
          },
          "metadata": {
            "tags": []
          },
          "execution_count": 66
        }
      ]
    },
    {
      "cell_type": "code",
      "metadata": {
        "id": "D9b1sup2dfWA",
        "colab_type": "code",
        "outputId": "4f518bf4-d644-49ad-a144-e32cf421ece8",
        "colab": {
          "base_uri": "https://localhost:8080/",
          "height": 538
        }
      },
      "source": [
        "plt.hist(length,bins=50)"
      ],
      "execution_count": 67,
      "outputs": [
        {
          "output_type": "execute_result",
          "data": {
            "text/plain": [
              "(array([4.600e+01, 1.580e+02, 2.061e+03, 2.144e+03, 2.488e+03, 5.915e+03,\n",
              "        2.813e+03, 2.464e+03, 4.152e+03, 1.567e+03, 1.231e+03, 1.806e+03,\n",
              "        6.500e+02, 9.050e+02, 3.030e+02, 2.600e+02, 3.790e+02, 1.310e+02,\n",
              "        9.100e+01, 1.470e+02, 5.100e+01, 3.700e+01, 6.100e+01, 3.300e+01,\n",
              "        1.700e+01, 2.900e+01, 6.000e+00, 1.500e+01, 1.000e+01, 5.000e+00,\n",
              "        7.000e+00, 1.000e+00, 4.000e+00, 5.000e+00, 0.000e+00, 1.000e+00,\n",
              "        1.000e+00, 2.000e+00, 1.000e+00, 0.000e+00, 0.000e+00, 0.000e+00,\n",
              "        0.000e+00, 0.000e+00, 1.000e+00, 1.000e+00, 0.000e+00, 0.000e+00,\n",
              "        0.000e+00, 1.000e+00]),\n",
              " array([ 4.  ,  5.36,  6.72,  8.08,  9.44, 10.8 , 12.16, 13.52, 14.88,\n",
              "        16.24, 17.6 , 18.96, 20.32, 21.68, 23.04, 24.4 , 25.76, 27.12,\n",
              "        28.48, 29.84, 31.2 , 32.56, 33.92, 35.28, 36.64, 38.  , 39.36,\n",
              "        40.72, 42.08, 43.44, 44.8 , 46.16, 47.52, 48.88, 50.24, 51.6 ,\n",
              "        52.96, 54.32, 55.68, 57.04, 58.4 , 59.76, 61.12, 62.48, 63.84,\n",
              "        65.2 , 66.56, 67.92, 69.28, 70.64, 72.  ]),\n",
              " <a list of 50 Patch objects>)"
            ]
          },
          "metadata": {
            "tags": []
          },
          "execution_count": 67
        },
        {
          "output_type": "display_data",
          "data": {
            "image/png": "[encoded data removed]",
            "text/plain": [
              "<Figure size 432x288 with 1 Axes>"
            ]
          },
          "metadata": {
            "tags": []
          }
        }
      ]
    },
    {
      "cell_type": "code",
      "metadata": {
        "id": "MqB5akdRYLG5",
        "colab_type": "code",
        "colab": {}
      },
      "source": [
        "def generate_batch(images_embeddings, indexed_captions,lengths,batch_size, max_len=None):\n",
        "    \n",
        "    if batch_size==None:\n",
        "      batch_size=len(images_embeddings)\n",
        "    m=np.random.choice(len(images_embeddings),size=batch_size,replace=False)\n",
        "    batchcaptions =indexed_captions[m] \n",
        "    batch_image_embeddings = images_embeddings[m]\n",
        "    len1=lengths[m]\n",
        "    batch_captions_matrix=pad_sequences(batchcaptions,maxlen=max_len,padding='post')\n",
        "    \n",
        "    \n",
        "    return (batch_image_embeddings, \n",
        "            batch_captions_matrix,len1)"
      ],
      "execution_count": 0,
      "outputs": []
    },
    {
      "cell_type": "code",
      "metadata": {
        "id": "9kjTEmACnQ8J",
        "colab_type": "code",
        "colab": {}
      },
      "source": [
        "batch_size = 64\n",
        "n_epochs = 10\n",
        "n_batches_per_epoch = 500\n",
        "n_validation_batches = 100"
      ],
      "execution_count": 0,
      "outputs": []
    },
    {
      "cell_type": "code",
      "metadata": {
        "id": "WZppeuImyppI",
        "colab_type": "code",
        "outputId": "c368b6f3-ef2c-4a01-aa24-d5fb9f66262a",
        "colab": {
          "base_uri": "https://localhost:8080/",
          "height": 34
        }
      },
      "source": [
        "generate_batch(pred2,np.array(tokendata3),np.array(length),64,None)[1].shape"
      ],
      "execution_count": 70,
      "outputs": [
        {
          "output_type": "execute_result",
          "data": {
            "text/plain": [
              "(64, 38)"
            ]
          },
          "metadata": {
            "tags": []
          },
          "execution_count": 70
        }
      ]
    },
    {
      "cell_type": "code",
      "metadata": {
        "id": "LvZ-nkLp7XaX",
        "colab_type": "code",
        "colab": {}
      },
      "source": [
        "#Creating Training ,Validation datasets\n",
        "trainlabels,validlabels=train_test_split(np.arange(30000),test_size=0.01)"
      ],
      "execution_count": 0,
      "outputs": []
    },
    {
      "cell_type": "code",
      "metadata": {
        "id": "H8whoHPV9koO",
        "colab_type": "code",
        "colab": {}
      },
      "source": [
        "trainXdata=pred2[trainlabels]\n",
        "trainYdata=np.array(tokendata3)[trainlabels]\n",
        "trainlength=np.array(length)[trainlabels]\n",
        "validXdata=pred2[validlabels]\n",
        "validYdata=np.array(tokendata3)[validlabels]\n",
        "validlength=np.array(length)[validlabels]"
      ],
      "execution_count": 0,
      "outputs": []
    },
    {
      "cell_type": "code",
      "metadata": {
        "id": "4nc2VgxE-PyO",
        "colab_type": "code",
        "colab": {}
      },
      "source": [
        "validXdata.shape\n",
        "d1=0.75\n",
        "d2=0.75\n",
        "d3=0.75"
      ],
      "execution_count": 0,
      "outputs": []
    },
    {
      "cell_type": "code",
      "metadata": {
        "id": "5QFjqYnTyuTH",
        "colab_type": "code",
        "outputId": "9813cc34-67bc-4179-d4fd-2e4d7bc49e76",
        "colab": {
          "base_uri": "https://localhost:8080/",
          "height": 1000
        }
      },
      "source": [
        "trainloss=[]\n",
        "count=0\n",
        "validloss=[]\n",
        "for i in range(n_epochs):\n",
        "  for j in tqdm(range(n_batches_per_epoch)):\n",
        "    batchx,batchy,batchlen=generate_batch(trainXdata,trainYdata,trainlength,64,None)\n",
        "    loss1,_=s.run([loss,train_step],feed_dict={imgemb:batchx,sentences:batchy,seqlen:batchlen,drop1:d1,drop2:d2,drop3:d3})\n",
        "    \n",
        "    if count%50==0:\n",
        "      #print(\"-----trainloss:-\",loss1,\" count:-\",count)\n",
        "      batchx,batchy,batchlen=generate_batch(validXdata,validYdata,validlength,None,None)\n",
        "      validloss1=s.run(loss,feed_dict={imgemb:batchx,sentences:batchy,seqlen:batchlen,drop1:1.0,drop2:1.0,drop3:1.0})\n",
        "      print(\"-----validloss:-\",validloss1,\"---trainloss:-\",loss1,\"  count:-\",count)\n",
        "      validloss.append(validloss1)\n",
        "    count+=1\n",
        "    trainloss.append(loss1)"
      ],
      "execution_count": 80,
      "outputs": [
        {
          "output_type": "stream",
          "text": [
            "  0%|          | 2/500 [00:00<01:30,  5.49it/s]"
          ],
          "name": "stderr"
        },
        {
          "output_type": "stream",
          "text": [
            "-----validloss:- 7.7984114 ---trainloss:- 9.975037   count:- 0\n"
          ],
          "name": "stdout"
        },
        {
          "output_type": "stream",
          "text": [
            " 10%|█         | 52/500 [00:04<00:40, 11.12it/s]"
          ],
          "name": "stderr"
        },
        {
          "output_type": "stream",
          "text": [
            "-----validloss:- 5.0345078 ---trainloss:- 5.060325   count:- 50\n"
          ],
          "name": "stdout"
        },
        {
          "output_type": "stream",
          "text": [
            " 20%|██        | 102/500 [00:08<00:37, 10.62it/s]"
          ],
          "name": "stderr"
        },
        {
          "output_type": "stream",
          "text": [
            "-----validloss:- 4.7497463 ---trainloss:- 5.0333366   count:- 100\n"
          ],
          "name": "stdout"
        },
        {
          "output_type": "stream",
          "text": [
            " 30%|███       | 152/500 [00:12<00:32, 10.65it/s]"
          ],
          "name": "stderr"
        },
        {
          "output_type": "stream",
          "text": [
            "-----validloss:- 4.563982 ---trainloss:- 4.833097   count:- 150\n"
          ],
          "name": "stdout"
        },
        {
          "output_type": "stream",
          "text": [
            " 40%|████      | 202/500 [00:16<00:25, 11.74it/s]"
          ],
          "name": "stderr"
        },
        {
          "output_type": "stream",
          "text": [
            "-----validloss:- 4.4285913 ---trainloss:- 4.615882   count:- 200\n"
          ],
          "name": "stdout"
        },
        {
          "output_type": "stream",
          "text": [
            " 50%|█████     | 252/500 [00:21<00:22, 11.11it/s]"
          ],
          "name": "stderr"
        },
        {
          "output_type": "stream",
          "text": [
            "-----validloss:- 4.3298407 ---trainloss:- 4.6695213   count:- 250\n"
          ],
          "name": "stdout"
        },
        {
          "output_type": "stream",
          "text": [
            " 60%|██████    | 302/500 [00:25<00:18, 10.71it/s]"
          ],
          "name": "stderr"
        },
        {
          "output_type": "stream",
          "text": [
            "-----validloss:- 4.224028 ---trainloss:- 4.4035177   count:- 300\n"
          ],
          "name": "stdout"
        },
        {
          "output_type": "stream",
          "text": [
            " 70%|███████   | 352/500 [00:29<00:13, 10.72it/s]"
          ],
          "name": "stderr"
        },
        {
          "output_type": "stream",
          "text": [
            "-----validloss:- 4.1578903 ---trainloss:- 4.3819733   count:- 350\n"
          ],
          "name": "stdout"
        },
        {
          "output_type": "stream",
          "text": [
            " 80%|████████  | 402/500 [00:33<00:09, 10.47it/s]"
          ],
          "name": "stderr"
        },
        {
          "output_type": "stream",
          "text": [
            "-----validloss:- 4.1093197 ---trainloss:- 4.2165103   count:- 400\n"
          ],
          "name": "stdout"
        },
        {
          "output_type": "stream",
          "text": [
            " 90%|█████████ | 452/500 [00:37<00:04, 10.37it/s]"
          ],
          "name": "stderr"
        },
        {
          "output_type": "stream",
          "text": [
            "-----validloss:- 4.042164 ---trainloss:- 4.234191   count:- 450\n"
          ],
          "name": "stdout"
        },
        {
          "output_type": "stream",
          "text": [
            "100%|██████████| 500/500 [00:41<00:00, 12.22it/s]\n",
            "  1%|          | 3/500 [00:00<01:10,  7.06it/s]"
          ],
          "name": "stderr"
        },
        {
          "output_type": "stream",
          "text": [
            "-----validloss:- 4.0046406 ---trainloss:- 4.029925   count:- 500\n"
          ],
          "name": "stdout"
        },
        {
          "output_type": "stream",
          "text": [
            " 11%|█         | 53/500 [00:04<00:40, 11.02it/s]"
          ],
          "name": "stderr"
        },
        {
          "output_type": "stream",
          "text": [
            "-----validloss:- 3.97536 ---trainloss:- 4.018758   count:- 550\n"
          ],
          "name": "stdout"
        },
        {
          "output_type": "stream",
          "text": [
            " 21%|██        | 103/500 [00:08<00:36, 10.95it/s]"
          ],
          "name": "stderr"
        },
        {
          "output_type": "stream",
          "text": [
            "-----validloss:- 3.9262242 ---trainloss:- 4.0376067   count:- 600\n"
          ],
          "name": "stdout"
        },
        {
          "output_type": "stream",
          "text": [
            " 31%|███       | 153/500 [00:12<00:27, 12.59it/s]"
          ],
          "name": "stderr"
        },
        {
          "output_type": "stream",
          "text": [
            "-----validloss:- 3.9146063 ---trainloss:- 3.9329116   count:- 650\n"
          ],
          "name": "stdout"
        },
        {
          "output_type": "stream",
          "text": [
            " 41%|████      | 203/500 [00:16<00:24, 12.26it/s]"
          ],
          "name": "stderr"
        },
        {
          "output_type": "stream",
          "text": [
            "-----validloss:- 3.9015107 ---trainloss:- 3.7233832   count:- 700\n"
          ],
          "name": "stdout"
        },
        {
          "output_type": "stream",
          "text": [
            " 51%|█████     | 253/500 [00:21<00:22, 11.07it/s]"
          ],
          "name": "stderr"
        },
        {
          "output_type": "stream",
          "text": [
            "-----validloss:- 3.8502743 ---trainloss:- 4.0980506   count:- 750\n"
          ],
          "name": "stdout"
        },
        {
          "output_type": "stream",
          "text": [
            " 61%|██████    | 303/500 [00:25<00:18, 10.78it/s]"
          ],
          "name": "stderr"
        },
        {
          "output_type": "stream",
          "text": [
            "-----validloss:- 3.8472655 ---trainloss:- 3.740082   count:- 800\n"
          ],
          "name": "stdout"
        },
        {
          "output_type": "stream",
          "text": [
            " 71%|███████   | 353/500 [00:29<00:12, 11.37it/s]"
          ],
          "name": "stderr"
        },
        {
          "output_type": "stream",
          "text": [
            "-----validloss:- 3.8306127 ---trainloss:- 3.8734612   count:- 850\n"
          ],
          "name": "stdout"
        },
        {
          "output_type": "stream",
          "text": [
            " 81%|████████  | 403/500 [00:33<00:08, 11.39it/s]"
          ],
          "name": "stderr"
        },
        {
          "output_type": "stream",
          "text": [
            "-----validloss:- 3.7892294 ---trainloss:- 3.9573932   count:- 900\n"
          ],
          "name": "stdout"
        },
        {
          "output_type": "stream",
          "text": [
            " 91%|█████████ | 453/500 [00:38<00:04, 11.27it/s]"
          ],
          "name": "stderr"
        },
        {
          "output_type": "stream",
          "text": [
            "-----validloss:- 3.776531 ---trainloss:- 3.677063   count:- 950\n"
          ],
          "name": "stdout"
        },
        {
          "output_type": "stream",
          "text": [
            "100%|██████████| 500/500 [00:42<00:00, 11.90it/s]\n",
            "  1%|          | 3/500 [00:00<01:05,  7.57it/s]"
          ],
          "name": "stderr"
        },
        {
          "output_type": "stream",
          "text": [
            "-----validloss:- 3.7489934 ---trainloss:- 3.7963464   count:- 1000\n"
          ],
          "name": "stdout"
        },
        {
          "output_type": "stream",
          "text": [
            " 11%|█         | 53/500 [00:04<00:43, 10.28it/s]"
          ],
          "name": "stderr"
        },
        {
          "output_type": "stream",
          "text": [
            "-----validloss:- 3.7327561 ---trainloss:- 3.8861408   count:- 1050\n"
          ],
          "name": "stdout"
        },
        {
          "output_type": "stream",
          "text": [
            " 21%|██        | 103/500 [00:08<00:36, 10.74it/s]"
          ],
          "name": "stderr"
        },
        {
          "output_type": "stream",
          "text": [
            "-----validloss:- 3.7088668 ---trainloss:- 3.7873054   count:- 1100\n"
          ],
          "name": "stdout"
        },
        {
          "output_type": "stream",
          "text": [
            " 31%|███       | 153/500 [00:12<00:31, 11.10it/s]"
          ],
          "name": "stderr"
        },
        {
          "output_type": "stream",
          "text": [
            "-----validloss:- 3.6918278 ---trainloss:- 3.6069152   count:- 1150\n"
          ],
          "name": "stdout"
        },
        {
          "output_type": "stream",
          "text": [
            " 41%|████      | 203/500 [00:16<00:26, 11.18it/s]"
          ],
          "name": "stderr"
        },
        {
          "output_type": "stream",
          "text": [
            "-----validloss:- 3.677407 ---trainloss:- 3.8939254   count:- 1200\n"
          ],
          "name": "stdout"
        },
        {
          "output_type": "stream",
          "text": [
            " 51%|█████     | 253/500 [00:20<00:21, 11.24it/s]"
          ],
          "name": "stderr"
        },
        {
          "output_type": "stream",
          "text": [
            "-----validloss:- 3.6658435 ---trainloss:- 3.6926804   count:- 1250\n"
          ],
          "name": "stdout"
        },
        {
          "output_type": "stream",
          "text": [
            " 61%|██████    | 303/500 [00:25<00:17, 10.97it/s]"
          ],
          "name": "stderr"
        },
        {
          "output_type": "stream",
          "text": [
            "-----validloss:- 3.6512232 ---trainloss:- 3.6601346   count:- 1300\n"
          ],
          "name": "stdout"
        },
        {
          "output_type": "stream",
          "text": [
            " 71%|███████   | 353/500 [00:29<00:13, 10.86it/s]"
          ],
          "name": "stderr"
        },
        {
          "output_type": "stream",
          "text": [
            "-----validloss:- 3.6372573 ---trainloss:- 3.8195226   count:- 1350\n"
          ],
          "name": "stdout"
        },
        {
          "output_type": "stream",
          "text": [
            " 81%|████████  | 403/500 [00:33<00:09, 10.51it/s]"
          ],
          "name": "stderr"
        },
        {
          "output_type": "stream",
          "text": [
            "-----validloss:- 3.635634 ---trainloss:- 3.5498521   count:- 1400\n"
          ],
          "name": "stdout"
        },
        {
          "output_type": "stream",
          "text": [
            " 91%|█████████ | 453/500 [00:37<00:04, 11.52it/s]"
          ],
          "name": "stderr"
        },
        {
          "output_type": "stream",
          "text": [
            "-----validloss:- 3.6187942 ---trainloss:- 3.4895046   count:- 1450\n"
          ],
          "name": "stdout"
        },
        {
          "output_type": "stream",
          "text": [
            "100%|██████████| 500/500 [00:41<00:00, 12.08it/s]\n",
            "  1%|          | 3/500 [00:00<01:01,  8.05it/s]"
          ],
          "name": "stderr"
        },
        {
          "output_type": "stream",
          "text": [
            "-----validloss:- 3.6176817 ---trainloss:- 3.6382327   count:- 1500\n"
          ],
          "name": "stdout"
        },
        {
          "output_type": "stream",
          "text": [
            " 11%|█         | 53/500 [00:04<00:38, 11.66it/s]"
          ],
          "name": "stderr"
        },
        {
          "output_type": "stream",
          "text": [
            "-----validloss:- 3.5913405 ---trainloss:- 3.4250364   count:- 1550\n"
          ],
          "name": "stdout"
        },
        {
          "output_type": "stream",
          "text": [
            " 21%|██        | 103/500 [00:08<00:34, 11.43it/s]"
          ],
          "name": "stderr"
        },
        {
          "output_type": "stream",
          "text": [
            "-----validloss:- 3.5883243 ---trainloss:- 3.7285461   count:- 1600\n"
          ],
          "name": "stdout"
        },
        {
          "output_type": "stream",
          "text": [
            " 31%|███       | 153/500 [00:12<00:31, 11.10it/s]"
          ],
          "name": "stderr"
        },
        {
          "output_type": "stream",
          "text": [
            "-----validloss:- 3.5757167 ---trainloss:- 3.770225   count:- 1650\n"
          ],
          "name": "stdout"
        },
        {
          "output_type": "stream",
          "text": [
            " 41%|████      | 203/500 [00:17<00:26, 11.10it/s]"
          ],
          "name": "stderr"
        },
        {
          "output_type": "stream",
          "text": [
            "-----validloss:- 3.5843322 ---trainloss:- 3.5928514   count:- 1700\n"
          ],
          "name": "stdout"
        },
        {
          "output_type": "stream",
          "text": [
            " 51%|█████     | 253/500 [00:21<00:21, 11.40it/s]"
          ],
          "name": "stderr"
        },
        {
          "output_type": "stream",
          "text": [
            "-----validloss:- 3.5566375 ---trainloss:- 3.567663   count:- 1750\n"
          ],
          "name": "stdout"
        },
        {
          "output_type": "stream",
          "text": [
            " 61%|██████    | 303/500 [00:25<00:18, 10.67it/s]"
          ],
          "name": "stderr"
        },
        {
          "output_type": "stream",
          "text": [
            "-----validloss:- 3.5382302 ---trainloss:- 3.4364696   count:- 1800\n"
          ],
          "name": "stdout"
        },
        {
          "output_type": "stream",
          "text": [
            " 71%|███████   | 353/500 [00:29<00:12, 11.51it/s]"
          ],
          "name": "stderr"
        },
        {
          "output_type": "stream",
          "text": [
            "-----validloss:- 3.5520067 ---trainloss:- 3.4365695   count:- 1850\n"
          ],
          "name": "stdout"
        },
        {
          "output_type": "stream",
          "text": [
            " 80%|████████  | 401/500 [00:33<00:09, 10.62it/s]"
          ],
          "name": "stderr"
        },
        {
          "output_type": "stream",
          "text": [
            "-----validloss:- 3.5569434 ---trainloss:- 3.5258985   count:- 1900\n"
          ],
          "name": "stdout"
        },
        {
          "output_type": "stream",
          "text": [
            " 91%|█████████ | 453/500 [00:37<00:04, 11.43it/s]"
          ],
          "name": "stderr"
        },
        {
          "output_type": "stream",
          "text": [
            "-----validloss:- 3.5315552 ---trainloss:- 3.7538037   count:- 1950\n"
          ],
          "name": "stdout"
        },
        {
          "output_type": "stream",
          "text": [
            "100%|██████████| 500/500 [00:41<00:00, 12.09it/s]\n",
            "  1%|          | 3/500 [00:00<01:07,  7.33it/s]"
          ],
          "name": "stderr"
        },
        {
          "output_type": "stream",
          "text": [
            "-----validloss:- 3.5386891 ---trainloss:- 3.4882932   count:- 2000\n"
          ],
          "name": "stdout"
        },
        {
          "output_type": "stream",
          "text": [
            " 11%|█         | 53/500 [00:04<00:36, 12.11it/s]"
          ],
          "name": "stderr"
        },
        {
          "output_type": "stream",
          "text": [
            "-----validloss:- 3.524709 ---trainloss:- 3.2498515   count:- 2050\n"
          ],
          "name": "stdout"
        },
        {
          "output_type": "stream",
          "text": [
            " 21%|██        | 103/500 [00:08<00:34, 11.39it/s]"
          ],
          "name": "stderr"
        },
        {
          "output_type": "stream",
          "text": [
            "-----validloss:- 3.5076928 ---trainloss:- 3.2499893   count:- 2100\n"
          ],
          "name": "stdout"
        },
        {
          "output_type": "stream",
          "text": [
            " 30%|███       | 151/500 [00:12<00:34, 10.01it/s]"
          ],
          "name": "stderr"
        },
        {
          "output_type": "stream",
          "text": [
            "-----validloss:- 3.5011582 ---trainloss:- 3.2784219   count:- 2150\n"
          ],
          "name": "stdout"
        },
        {
          "output_type": "stream",
          "text": [
            " 41%|████      | 203/500 [00:16<00:26, 11.37it/s]"
          ],
          "name": "stderr"
        },
        {
          "output_type": "stream",
          "text": [
            "-----validloss:- 3.5031445 ---trainloss:- 3.5088105   count:- 2200\n"
          ],
          "name": "stdout"
        },
        {
          "output_type": "stream",
          "text": [
            " 51%|█████     | 253/500 [00:20<00:21, 11.74it/s]"
          ],
          "name": "stderr"
        },
        {
          "output_type": "stream",
          "text": [
            "-----validloss:- 3.4978547 ---trainloss:- 3.3023221   count:- 2250\n"
          ],
          "name": "stdout"
        },
        {
          "output_type": "stream",
          "text": [
            " 61%|██████    | 303/500 [00:24<00:17, 11.09it/s]"
          ],
          "name": "stderr"
        },
        {
          "output_type": "stream",
          "text": [
            "-----validloss:- 3.499392 ---trainloss:- 3.6044796   count:- 2300\n"
          ],
          "name": "stdout"
        },
        {
          "output_type": "stream",
          "text": [
            " 71%|███████   | 353/500 [00:29<00:12, 11.92it/s]"
          ],
          "name": "stderr"
        },
        {
          "output_type": "stream",
          "text": [
            "-----validloss:- 3.4924212 ---trainloss:- 3.2403944   count:- 2350\n"
          ],
          "name": "stdout"
        },
        {
          "output_type": "stream",
          "text": [
            " 81%|████████  | 403/500 [00:33<00:09, 10.58it/s]"
          ],
          "name": "stderr"
        },
        {
          "output_type": "stream",
          "text": [
            "-----validloss:- 3.4772499 ---trainloss:- 3.478345   count:- 2400\n"
          ],
          "name": "stdout"
        },
        {
          "output_type": "stream",
          "text": [
            " 90%|█████████ | 451/500 [00:37<00:04, 10.85it/s]"
          ],
          "name": "stderr"
        },
        {
          "output_type": "stream",
          "text": [
            "-----validloss:- 3.4925656 ---trainloss:- 3.4834027   count:- 2450\n"
          ],
          "name": "stdout"
        },
        {
          "output_type": "stream",
          "text": [
            "100%|██████████| 500/500 [00:41<00:00, 12.18it/s]\n",
            "  1%|          | 3/500 [00:00<01:10,  7.07it/s]"
          ],
          "name": "stderr"
        },
        {
          "output_type": "stream",
          "text": [
            "-----validloss:- 3.4836378 ---trainloss:- 3.274395   count:- 2500\n"
          ],
          "name": "stdout"
        },
        {
          "output_type": "stream",
          "text": [
            " 11%|█         | 53/500 [00:04<00:38, 11.56it/s]"
          ],
          "name": "stderr"
        },
        {
          "output_type": "stream",
          "text": [
            "-----validloss:- 3.4792316 ---trainloss:- 3.3136058   count:- 2550\n"
          ],
          "name": "stdout"
        },
        {
          "output_type": "stream",
          "text": [
            " 20%|██        | 101/500 [00:08<00:35, 11.35it/s]"
          ],
          "name": "stderr"
        },
        {
          "output_type": "stream",
          "text": [
            "-----validloss:- 3.4674919 ---trainloss:- 3.359619   count:- 2600\n"
          ],
          "name": "stdout"
        },
        {
          "output_type": "stream",
          "text": [
            " 31%|███       | 153/500 [00:12<00:28, 12.31it/s]"
          ],
          "name": "stderr"
        },
        {
          "output_type": "stream",
          "text": [
            "-----validloss:- 3.4693449 ---trainloss:- 3.3128092   count:- 2650\n"
          ],
          "name": "stdout"
        },
        {
          "output_type": "stream",
          "text": [
            " 41%|████      | 203/500 [00:16<00:25, 11.66it/s]"
          ],
          "name": "stderr"
        },
        {
          "output_type": "stream",
          "text": [
            "-----validloss:- 3.4461699 ---trainloss:- 3.4148614   count:- 2700\n"
          ],
          "name": "stdout"
        },
        {
          "output_type": "stream",
          "text": [
            " 51%|█████     | 253/500 [00:21<00:22, 11.10it/s]"
          ],
          "name": "stderr"
        },
        {
          "output_type": "stream",
          "text": [
            "-----validloss:- 3.4699476 ---trainloss:- 3.412488   count:- 2750\n"
          ],
          "name": "stdout"
        },
        {
          "output_type": "stream",
          "text": [
            " 61%|██████    | 303/500 [00:25<00:15, 12.45it/s]"
          ],
          "name": "stderr"
        },
        {
          "output_type": "stream",
          "text": [
            "-----validloss:- 3.4628158 ---trainloss:- 3.5466917   count:- 2800\n"
          ],
          "name": "stdout"
        },
        {
          "output_type": "stream",
          "text": [
            " 71%|███████   | 353/500 [00:29<00:12, 11.59it/s]"
          ],
          "name": "stderr"
        },
        {
          "output_type": "stream",
          "text": [
            "-----validloss:- 3.4566658 ---trainloss:- 3.3570588   count:- 2850\n"
          ],
          "name": "stdout"
        },
        {
          "output_type": "stream",
          "text": [
            " 81%|████████  | 403/500 [00:33<00:08, 10.95it/s]"
          ],
          "name": "stderr"
        },
        {
          "output_type": "stream",
          "text": [
            "-----validloss:- 3.4483314 ---trainloss:- 3.3516188   count:- 2900\n"
          ],
          "name": "stdout"
        },
        {
          "output_type": "stream",
          "text": [
            " 91%|█████████ | 453/500 [00:37<00:04, 10.99it/s]"
          ],
          "name": "stderr"
        },
        {
          "output_type": "stream",
          "text": [
            "-----validloss:- 3.4496365 ---trainloss:- 3.5158765   count:- 2950\n"
          ],
          "name": "stdout"
        },
        {
          "output_type": "stream",
          "text": [
            "100%|██████████| 500/500 [00:41<00:00, 12.01it/s]\n",
            "  1%|          | 3/500 [00:00<01:06,  7.45it/s]"
          ],
          "name": "stderr"
        },
        {
          "output_type": "stream",
          "text": [
            "-----validloss:- 3.436085 ---trainloss:- 3.438497   count:- 3000\n"
          ],
          "name": "stdout"
        },
        {
          "output_type": "stream",
          "text": [
            " 10%|█         | 51/500 [00:04<00:40, 10.97it/s]"
          ],
          "name": "stderr"
        },
        {
          "output_type": "stream",
          "text": [
            "-----validloss:- 3.440682 ---trainloss:- 3.3922153   count:- 3050\n"
          ],
          "name": "stdout"
        },
        {
          "output_type": "stream",
          "text": [
            " 21%|██        | 103/500 [00:08<00:35, 11.11it/s]"
          ],
          "name": "stderr"
        },
        {
          "output_type": "stream",
          "text": [
            "-----validloss:- 3.457115 ---trainloss:- 3.2608802   count:- 3100\n"
          ],
          "name": "stdout"
        },
        {
          "output_type": "stream",
          "text": [
            " 31%|███       | 153/500 [00:12<00:31, 10.99it/s]"
          ],
          "name": "stderr"
        },
        {
          "output_type": "stream",
          "text": [
            "-----validloss:- 3.4414728 ---trainloss:- 3.0347545   count:- 3150\n"
          ],
          "name": "stdout"
        },
        {
          "output_type": "stream",
          "text": [
            " 41%|████      | 203/500 [00:16<00:28, 10.36it/s]"
          ],
          "name": "stderr"
        },
        {
          "output_type": "stream",
          "text": [
            "-----validloss:- 3.454484 ---trainloss:- 3.2174659   count:- 3200\n"
          ],
          "name": "stdout"
        },
        {
          "output_type": "stream",
          "text": [
            " 51%|█████     | 253/500 [00:20<00:21, 11.67it/s]"
          ],
          "name": "stderr"
        },
        {
          "output_type": "stream",
          "text": [
            "-----validloss:- 3.4452648 ---trainloss:- 3.3803868   count:- 3250\n"
          ],
          "name": "stdout"
        },
        {
          "output_type": "stream",
          "text": [
            " 61%|██████    | 303/500 [00:24<00:17, 11.17it/s]"
          ],
          "name": "stderr"
        },
        {
          "output_type": "stream",
          "text": [
            "-----validloss:- 3.4500446 ---trainloss:- 3.26582   count:- 3300\n"
          ],
          "name": "stdout"
        },
        {
          "output_type": "stream",
          "text": [
            " 71%|███████   | 353/500 [00:29<00:13, 10.77it/s]"
          ],
          "name": "stderr"
        },
        {
          "output_type": "stream",
          "text": [
            "-----validloss:- 3.4417205 ---trainloss:- 3.3578157   count:- 3350\n"
          ],
          "name": "stdout"
        },
        {
          "output_type": "stream",
          "text": [
            " 81%|████████  | 403/500 [00:33<00:08, 11.55it/s]"
          ],
          "name": "stderr"
        },
        {
          "output_type": "stream",
          "text": [
            "-----validloss:- 3.4443965 ---trainloss:- 2.9627738   count:- 3400\n"
          ],
          "name": "stdout"
        },
        {
          "output_type": "stream",
          "text": [
            " 91%|█████████ | 453/500 [00:37<00:04, 11.19it/s]"
          ],
          "name": "stderr"
        },
        {
          "output_type": "stream",
          "text": [
            "-----validloss:- 3.457477 ---trainloss:- 3.1070828   count:- 3450\n"
          ],
          "name": "stdout"
        },
        {
          "output_type": "stream",
          "text": [
            "100%|██████████| 500/500 [00:41<00:00, 12.07it/s]\n",
            "  1%|          | 3/500 [00:00<01:13,  6.81it/s]"
          ],
          "name": "stderr"
        },
        {
          "output_type": "stream",
          "text": [
            "-----validloss:- 3.4383597 ---trainloss:- 3.1320145   count:- 3500\n"
          ],
          "name": "stdout"
        },
        {
          "output_type": "stream",
          "text": [
            " 11%|█         | 54/500 [00:04<00:37, 12.02it/s]"
          ],
          "name": "stderr"
        },
        {
          "output_type": "stream",
          "text": [
            "-----validloss:- 3.4528956 ---trainloss:- 3.0746207   count:- 3550\n"
          ],
          "name": "stdout"
        },
        {
          "output_type": "stream",
          "text": [
            " 20%|██        | 102/500 [00:08<00:36, 10.87it/s]"
          ],
          "name": "stderr"
        },
        {
          "output_type": "stream",
          "text": [
            "-----validloss:- 3.4535058 ---trainloss:- 3.2180326   count:- 3600\n"
          ],
          "name": "stdout"
        },
        {
          "output_type": "stream",
          "text": [
            " 30%|███       | 152/500 [00:12<00:32, 10.63it/s]"
          ],
          "name": "stderr"
        },
        {
          "output_type": "stream",
          "text": [
            "-----validloss:- 3.4364457 ---trainloss:- 3.3958383   count:- 3650\n"
          ],
          "name": "stdout"
        },
        {
          "output_type": "stream",
          "text": [
            " 40%|████      | 202/500 [00:16<00:28, 10.52it/s]"
          ],
          "name": "stderr"
        },
        {
          "output_type": "stream",
          "text": [
            "-----validloss:- 3.449621 ---trainloss:- 3.2521126   count:- 3700\n"
          ],
          "name": "stdout"
        },
        {
          "output_type": "stream",
          "text": [
            " 50%|█████     | 252/500 [00:20<00:22, 11.10it/s]"
          ],
          "name": "stderr"
        },
        {
          "output_type": "stream",
          "text": [
            "-----validloss:- 3.4267607 ---trainloss:- 2.960244   count:- 3750\n"
          ],
          "name": "stdout"
        },
        {
          "output_type": "stream",
          "text": [
            " 60%|██████    | 302/500 [00:24<00:18, 10.97it/s]"
          ],
          "name": "stderr"
        },
        {
          "output_type": "stream",
          "text": [
            "-----validloss:- 3.4546516 ---trainloss:- 3.3256772   count:- 3800\n"
          ],
          "name": "stdout"
        },
        {
          "output_type": "stream",
          "text": [
            " 70%|███████   | 352/500 [00:29<00:13, 11.31it/s]"
          ],
          "name": "stderr"
        },
        {
          "output_type": "stream",
          "text": [
            "-----validloss:- 3.44369 ---trainloss:- 3.1383178   count:- 3850\n"
          ],
          "name": "stdout"
        },
        {
          "output_type": "stream",
          "text": [
            " 80%|████████  | 402/500 [00:33<00:08, 11.05it/s]"
          ],
          "name": "stderr"
        },
        {
          "output_type": "stream",
          "text": [
            "-----validloss:- 3.451337 ---trainloss:- 3.2741466   count:- 3900\n"
          ],
          "name": "stdout"
        },
        {
          "output_type": "stream",
          "text": [
            " 90%|█████████ | 452/500 [00:37<00:04, 10.41it/s]"
          ],
          "name": "stderr"
        },
        {
          "output_type": "stream",
          "text": [
            "-----validloss:- 3.4504297 ---trainloss:- 3.034047   count:- 3950\n"
          ],
          "name": "stdout"
        },
        {
          "output_type": "stream",
          "text": [
            "100%|██████████| 500/500 [00:40<00:00, 12.20it/s]\n",
            "  1%|          | 3/500 [00:00<01:11,  6.94it/s]"
          ],
          "name": "stderr"
        },
        {
          "output_type": "stream",
          "text": [
            "-----validloss:- 3.4439695 ---trainloss:- 3.2297373   count:- 4000\n"
          ],
          "name": "stdout"
        },
        {
          "output_type": "stream",
          "text": [
            " 11%|█         | 53/500 [00:04<00:44, 10.03it/s]"
          ],
          "name": "stderr"
        },
        {
          "output_type": "stream",
          "text": [
            "-----validloss:- 3.4477675 ---trainloss:- 2.9321785   count:- 4050\n"
          ],
          "name": "stdout"
        },
        {
          "output_type": "stream",
          "text": [
            " 21%|██        | 103/500 [00:08<00:37, 10.59it/s]"
          ],
          "name": "stderr"
        },
        {
          "output_type": "stream",
          "text": [
            "-----validloss:- 3.4523985 ---trainloss:- 2.9996881   count:- 4100\n"
          ],
          "name": "stdout"
        },
        {
          "output_type": "stream",
          "text": [
            " 31%|███       | 153/500 [00:12<00:29, 11.63it/s]"
          ],
          "name": "stderr"
        },
        {
          "output_type": "stream",
          "text": [
            "-----validloss:- 3.4410176 ---trainloss:- 3.2726753   count:- 4150\n"
          ],
          "name": "stdout"
        },
        {
          "output_type": "stream",
          "text": [
            " 41%|████      | 203/500 [00:16<00:26, 11.31it/s]"
          ],
          "name": "stderr"
        },
        {
          "output_type": "stream",
          "text": [
            "-----validloss:- 3.45405 ---trainloss:- 3.0614984   count:- 4200\n"
          ],
          "name": "stdout"
        },
        {
          "output_type": "stream",
          "text": [
            " 51%|█████     | 253/500 [00:21<00:23, 10.71it/s]"
          ],
          "name": "stderr"
        },
        {
          "output_type": "stream",
          "text": [
            "-----validloss:- 3.4638 ---trainloss:- 3.0707564   count:- 4250\n"
          ],
          "name": "stdout"
        },
        {
          "output_type": "stream",
          "text": [
            " 61%|██████    | 303/500 [00:25<00:18, 10.83it/s]"
          ],
          "name": "stderr"
        },
        {
          "output_type": "stream",
          "text": [
            "-----validloss:- 3.436902 ---trainloss:- 3.094043   count:- 4300\n"
          ],
          "name": "stdout"
        },
        {
          "output_type": "stream",
          "text": [
            " 71%|███████   | 353/500 [00:29<00:12, 11.43it/s]"
          ],
          "name": "stderr"
        },
        {
          "output_type": "stream",
          "text": [
            "-----validloss:- 3.4629633 ---trainloss:- 3.1983669   count:- 4350\n"
          ],
          "name": "stdout"
        },
        {
          "output_type": "stream",
          "text": [
            " 81%|████████  | 403/500 [00:33<00:09, 10.57it/s]"
          ],
          "name": "stderr"
        },
        {
          "output_type": "stream",
          "text": [
            "-----validloss:- 3.4641254 ---trainloss:- 3.0011005   count:- 4400\n"
          ],
          "name": "stdout"
        },
        {
          "output_type": "stream",
          "text": [
            " 91%|█████████ | 453/500 [00:37<00:04, 10.89it/s]"
          ],
          "name": "stderr"
        },
        {
          "output_type": "stream",
          "text": [
            "-----validloss:- 3.475136 ---trainloss:- 3.2083929   count:- 4450\n"
          ],
          "name": "stdout"
        },
        {
          "output_type": "stream",
          "text": [
            "100%|██████████| 500/500 [00:41<00:00, 12.07it/s]\n",
            "  1%|          | 3/500 [00:00<01:06,  7.48it/s]"
          ],
          "name": "stderr"
        },
        {
          "output_type": "stream",
          "text": [
            "-----validloss:- 3.4622128 ---trainloss:- 2.86624   count:- 4500\n"
          ],
          "name": "stdout"
        },
        {
          "output_type": "stream",
          "text": [
            " 10%|█         | 52/500 [00:04<00:42, 10.66it/s]"
          ],
          "name": "stderr"
        },
        {
          "output_type": "stream",
          "text": [
            "-----validloss:- 3.4474096 ---trainloss:- 3.057929   count:- 4550\n"
          ],
          "name": "stdout"
        },
        {
          "output_type": "stream",
          "text": [
            " 20%|██        | 102/500 [00:08<00:35, 11.07it/s]"
          ],
          "name": "stderr"
        },
        {
          "output_type": "stream",
          "text": [
            "-----validloss:- 3.43374 ---trainloss:- 3.000486   count:- 4600\n"
          ],
          "name": "stdout"
        },
        {
          "output_type": "stream",
          "text": [
            " 30%|███       | 152/500 [00:12<00:31, 11.19it/s]"
          ],
          "name": "stderr"
        },
        {
          "output_type": "stream",
          "text": [
            "-----validloss:- 3.4475026 ---trainloss:- 2.9714131   count:- 4650\n"
          ],
          "name": "stdout"
        },
        {
          "output_type": "stream",
          "text": [
            " 40%|████      | 202/500 [00:16<00:28, 10.33it/s]"
          ],
          "name": "stderr"
        },
        {
          "output_type": "stream",
          "text": [
            "-----validloss:- 3.4584553 ---trainloss:- 3.0137122   count:- 4700\n"
          ],
          "name": "stdout"
        },
        {
          "output_type": "stream",
          "text": [
            " 50%|█████     | 252/500 [00:20<00:23, 10.58it/s]"
          ],
          "name": "stderr"
        },
        {
          "output_type": "stream",
          "text": [
            "-----validloss:- 3.4593701 ---trainloss:- 3.0872335   count:- 4750\n"
          ],
          "name": "stdout"
        },
        {
          "output_type": "stream",
          "text": [
            " 60%|██████    | 302/500 [00:25<00:18, 10.93it/s]"
          ],
          "name": "stderr"
        },
        {
          "output_type": "stream",
          "text": [
            "-----validloss:- 3.4646835 ---trainloss:- 2.946639   count:- 4800\n"
          ],
          "name": "stdout"
        },
        {
          "output_type": "stream",
          "text": [
            " 70%|███████   | 352/500 [00:29<00:15,  9.59it/s]"
          ],
          "name": "stderr"
        },
        {
          "output_type": "stream",
          "text": [
            "-----validloss:- 3.4758909 ---trainloss:- 2.9124725   count:- 4850\n"
          ],
          "name": "stdout"
        },
        {
          "output_type": "stream",
          "text": [
            " 80%|████████  | 402/500 [00:33<00:09, 10.67it/s]"
          ],
          "name": "stderr"
        },
        {
          "output_type": "stream",
          "text": [
            "-----validloss:- 3.4881403 ---trainloss:- 2.8661516   count:- 4900\n"
          ],
          "name": "stdout"
        },
        {
          "output_type": "stream",
          "text": [
            " 90%|█████████ | 452/500 [00:37<00:04, 10.18it/s]"
          ],
          "name": "stderr"
        },
        {
          "output_type": "stream",
          "text": [
            "-----validloss:- 3.4777694 ---trainloss:- 2.9830258   count:- 4950\n"
          ],
          "name": "stdout"
        },
        {
          "output_type": "stream",
          "text": [
            "100%|██████████| 500/500 [00:41<00:00, 12.49it/s]\n"
          ],
          "name": "stderr"
        }
      ]
    },
    {
      "cell_type": "code",
      "metadata": {
        "id": "tVTZLHWS3l3d",
        "colab_type": "code",
        "outputId": "2c18df26-2bf0-4492-debc-b0c9676630f5",
        "colab": {
          "base_uri": "https://localhost:8080/",
          "height": 286
        }
      },
      "source": [
        "plt.plot(trainloss)"
      ],
      "execution_count": 81,
      "outputs": [
        {
          "output_type": "execute_result",
          "data": {
            "text/plain": [
              "[<matplotlib.lines.Line2D at 0x7f0cca1b16d8>]"
            ]
          },
          "metadata": {
            "tags": []
          },
          "execution_count": 81
        },
        {
          "output_type": "display_data",
          "data": {
            "image/png": "[encoded data removed]",
            "text/plain": [
              "<Figure size 432x288 with 1 Axes>"
            ]
          },
          "metadata": {
            "tags": []
          }
        }
      ]
    },
    {
      "cell_type": "code",
      "metadata": {
        "id": "5BFpr8M07DGU",
        "colab_type": "code",
        "outputId": "d0418fce-4956-4eb2-dd96-0d67ba1191c8",
        "colab": {
          "base_uri": "https://localhost:8080/",
          "height": 286
        }
      },
      "source": [
        "plt.plot(validloss)"
      ],
      "execution_count": 82,
      "outputs": [
        {
          "output_type": "execute_result",
          "data": {
            "text/plain": [
              "[<matplotlib.lines.Line2D at 0x7f0cca18b588>]"
            ]
          },
          "metadata": {
            "tags": []
          },
          "execution_count": 82
        },
        {
          "output_type": "display_data",
          "data": {
            "image/png": "[encoded data removed]",
            "text/plain": [
              "<Figure size 432x288 with 1 Axes>"
            ]
          },
          "metadata": {
            "tags": []
          }
        }
      ]
    },
    {
      "cell_type": "code",
      "metadata": {
        "id": "XoYIyjqrHmlP",
        "colab_type": "code",
        "colab": {}
      },
      "source": [
        "# Addred Dropout to imgembeddings\n",
        "# Added Dropout to Encoded sentences produced by  output of embedded sentences\n"
      ],
      "execution_count": 0,
      "outputs": []
    }
  ]
}